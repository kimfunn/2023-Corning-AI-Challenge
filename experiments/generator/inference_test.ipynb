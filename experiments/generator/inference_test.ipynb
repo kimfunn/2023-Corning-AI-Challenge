{
 "cells": [
  {
   "cell_type": "code",
   "execution_count": null,
   "metadata": {},
   "outputs": [],
   "source": [
    "https://github.com/luungoc2005/llama-tests/blob/master/langchain_test_react.ipynb\n",
    "https://blog.langchain.dev/evaluating-rag-pipelines-with-ragas-langsmith/"
   ]
  },
  {
   "cell_type": "code",
   "execution_count": 9,
   "metadata": {},
   "outputs": [
    {
     "ename": "SyntaxError",
     "evalue": "invalid syntax (2797275469.py, line 1)",
     "output_type": "error",
     "traceback": [
      "\u001b[0;36m  Input \u001b[0;32mIn [9]\u001b[0;36m\u001b[0m\n\u001b[0;31m    locate cuda-toolkit\u001b[0m\n\u001b[0m           ^\u001b[0m\n\u001b[0;31mSyntaxError\u001b[0m\u001b[0;31m:\u001b[0m invalid syntax\n"
     ]
    }
   ],
   "source": [
    "locate cuda-toolkit"
   ]
  },
  {
   "cell_type": "code",
   "execution_count": 5,
   "metadata": {},
   "outputs": [
    {
     "name": "stdout",
     "output_type": "stream",
     "text": [
      "Collecting environment information...\n",
      "/home/dilab/anaconda3/envs/korbias/lib/python3.8/site-packages/torch/cuda/__init__.py:138: UserWarning: CUDA initialization: The NVIDIA driver on your system is too old (found version 11040). Please update your GPU driver by downloading and installing a new version from the URL: http://www.nvidia.com/Download/index.aspx Alternatively, go to: https://pytorch.org to install a PyTorch version that has been compiled with your version of the CUDA driver. (Triggered internally at ../c10/cuda/CUDAFunctions.cpp:108.)\n",
      "  return torch._C._cuda_getDeviceCount() > 0\n",
      "PyTorch version: 2.1.0+cu121\n",
      "Is debug build: False\n",
      "CUDA used to build PyTorch: 12.1\n",
      "ROCM used to build PyTorch: N/A\n",
      "\n",
      "OS: Ubuntu 20.04.5 LTS (x86_64)\n",
      "GCC version: (Ubuntu 9.4.0-1ubuntu1~20.04.2) 9.4.0\n",
      "Clang version: Could not collect\n",
      "CMake version: Could not collect\n",
      "Libc version: glibc-2.31\n",
      "\n",
      "Python version: 3.8.16 (default, Mar  2 2023, 03:21:46)  [GCC 11.2.0] (64-bit runtime)\n",
      "Python platform: Linux-5.15.0-88-generic-x86_64-with-glibc2.17\n",
      "Is CUDA available: False\n",
      "CUDA runtime version: 11.2.152\n",
      "CUDA_MODULE_LOADING set to: N/A\n",
      "GPU models and configuration: GPU 0: NVIDIA GeForce RTX 3090\n",
      "Nvidia driver version: 470.223.02\n",
      "cuDNN version: Probably one of the following:\n",
      "/usr/local/cuda-11.2/targets/x86_64-linux/lib/libcudnn.so.8.1.1\n",
      "/usr/local/cuda-11.2/targets/x86_64-linux/lib/libcudnn_adv_infer.so.8.1.1\n",
      "/usr/local/cuda-11.2/targets/x86_64-linux/lib/libcudnn_adv_train.so.8.1.1\n",
      "/usr/local/cuda-11.2/targets/x86_64-linux/lib/libcudnn_cnn_infer.so.8.1.1\n",
      "/usr/local/cuda-11.2/targets/x86_64-linux/lib/libcudnn_cnn_train.so.8.1.1\n",
      "/usr/local/cuda-11.2/targets/x86_64-linux/lib/libcudnn_ops_infer.so.8.1.1\n",
      "/usr/local/cuda-11.2/targets/x86_64-linux/lib/libcudnn_ops_train.so.8.1.1\n",
      "HIP runtime version: N/A\n",
      "MIOpen runtime version: N/A\n",
      "Is XNNPACK available: True\n",
      "\n",
      "CPU:\n",
      "Architecture:                       x86_64\n",
      "CPU op-mode(s):                     32-bit, 64-bit\n",
      "Byte Order:                         Little Endian\n",
      "Address sizes:                      46 bits physical, 48 bits virtual\n",
      "CPU(s):                             24\n",
      "On-line CPU(s) list:                0-23\n",
      "Thread(s) per core:                 1\n",
      "Core(s) per socket:                 16\n",
      "Socket(s):                          1\n",
      "NUMA node(s):                       1\n",
      "Vendor ID:                          GenuineIntel\n",
      "CPU family:                         6\n",
      "Model:                              151\n",
      "Model name:                         12th Gen Intel(R) Core(TM) i9-12900K\n",
      "Stepping:                           2\n",
      "CPU MHz:                            1266.239\n",
      "CPU max MHz:                        5200.0000\n",
      "CPU min MHz:                        800.0000\n",
      "BogoMIPS:                           6374.40\n",
      "Virtualization:                     VT-x\n",
      "L1d cache:                          384 KiB\n",
      "L1i cache:                          256 KiB\n",
      "L2 cache:                           10 MiB\n",
      "NUMA node0 CPU(s):                  0-23\n",
      "Vulnerability Gather data sampling: Not affected\n",
      "Vulnerability Itlb multihit:        Not affected\n",
      "Vulnerability L1tf:                 Not affected\n",
      "Vulnerability Mds:                  Not affected\n",
      "Vulnerability Meltdown:             Not affected\n",
      "Vulnerability Mmio stale data:      Not affected\n",
      "Vulnerability Retbleed:             Not affected\n",
      "Vulnerability Spec rstack overflow: Not affected\n",
      "Vulnerability Spec store bypass:    Mitigation; Speculative Store Bypass disabled via prctl and seccomp\n",
      "Vulnerability Spectre v1:           Mitigation; usercopy/swapgs barriers and __user pointer sanitization\n",
      "Vulnerability Spectre v2:           Mitigation; Enhanced IBRS, IBPB conditional, RSB filling, PBRSB-eIBRS SW sequence\n",
      "Vulnerability Srbds:                Not affected\n",
      "Vulnerability Tsx async abort:      Not affected\n",
      "Flags:                              fpu vme de pse tsc msr pae mce cx8 apic sep mtrr pge mca cmov pat pse36 clflush dts acpi mmx fxsr sse sse2 ss ht tm pbe syscall nx pdpe1gb rdtscp lm constant_tsc art arch_perfmon pebs bts rep_good nopl xtopology nonstop_tsc cpuid aperfmperf tsc_known_freq pni pclmulqdq dtes64 monitor ds_cpl vmx smx est tm2 ssse3 sdbg fma cx16 xtpr pdcm sse4_1 sse4_2 x2apic movbe popcnt tsc_deadline_timer aes xsave avx f16c rdrand lahf_lm abm 3dnowprefetch cpuid_fault cat_l2 cdp_l2 ssbd ibrs ibpb stibp ibrs_enhanced tpr_shadow vnmi flexpriority ept vpid ept_ad fsgsbase tsc_adjust bmi1 avx2 smep bmi2 erms invpcid rdt_a rdseed adx smap clflushopt clwb intel_pt sha_ni xsaveopt xsavec xgetbv1 xsaves split_lock_detect avx_vnni dtherm ida arat pln pts hwp hwp_notify hwp_act_window hwp_epp hwp_pkg_req umip pku ospke waitpkg gfni vaes vpclmulqdq tme rdpid movdiri movdir64b fsrm md_clear serialize pconfig arch_lbr flush_l1d arch_capabilities\n",
      "\n",
      "Versions of relevant libraries:\n",
      "[pip3] backpack-for-pytorch==1.3.0\n",
      "[pip3] flake8==6.0.0\n",
      "[pip3] kmeans-pytorch==0.3\n",
      "[pip3] laplace-torch==0.1a1\n",
      "[pip3] mypy==1.1.1\n",
      "[pip3] mypy-extensions==1.0.0\n",
      "[pip3] numpy==1.23.3\n",
      "[pip3] pytorch-lightning==1.2.10\n",
      "[pip3] torch==2.1.0\n",
      "[pip3] torch-geometric==2.0.4\n",
      "[pip3] torch-geometric-temporal==0.52.0\n",
      "[pip3] torch-scatter==2.0.9\n",
      "[pip3] torch-sparse==0.6.9\n",
      "[pip3] torchmetrics==0.2.0\n",
      "[pip3] torchvision==0.8.1+cu110\n",
      "[pip3] triton==2.1.0\n",
      "[conda] numpy                     1.23.3                   pypi_0    pypi\n",
      "[conda] torch                     2.1.0                    pypi_0    pypi\n",
      "[conda] torchvision               0.8.1+cu110              pypi_0    pypi\n",
      "[conda] triton                    2.1.0                    pypi_0    pypi\n"
     ]
    }
   ],
   "source": []
  },
  {
   "cell_type": "code",
   "execution_count": 20,
   "metadata": {},
   "outputs": [
    {
     "name": "stderr",
     "output_type": "stream",
     "text": [
      "Setting `pad_token_id` to `eos_token_id`:50256 for open-end generation.\n"
     ]
    },
    {
     "name": "stdout",
     "output_type": "stream",
     "text": [
      "!!!!!!!!!!!!!!!!!!!!!!! [{'generated_text': 'What is the best model for text generation?\\n\\nThe best model for text generation is the one that is most suitable for the task at hand. It is the one that is most suitable for the task at hand. It is the one that is most suitable for the task at hand. It is the one that is most suitable for the task at hand. It is the one that is most suitable for the task at hand. It is the one that is most suitable for the task at hand. It is the one that is most suitable for the task at hand. It is the one that is most suitable for the task at hand. It is the one that is most suitable for the task at hand. It is the one that is most suitable for the task at hand. It is the one that is most suitable for the task at hand. It is the one that is most suitable for the task at hand. It is the one that is most suitable for the task at hand. It is'}]\n",
      "Result: What is the best model for text generation?\n",
      "\n",
      "The best model for text generation is the one that is most suitable for the task at hand. It is the one that is most suitable for the task at hand. It is the one that is most suitable for the task at hand. It is the one that is most suitable for the task at hand. It is the one that is most suitable for the task at hand. It is the one that is most suitable for the task at hand. It is the one that is most suitable for the task at hand. It is the one that is most suitable for the task at hand. It is the one that is most suitable for the task at hand. It is the one that is most suitable for the task at hand. It is the one that is most suitable for the task at hand. It is the one that is most suitable for the task at hand. It is the one that is most suitable for the task at hand. It is\n"
     ]
    }
   ],
   "source": [
    "from transformers import AutoTokenizer\n",
    "import transformers\n",
    "import torch\n",
    "\n",
    "# Hugging face repo name\n",
    "model = \"gpt2\" #chat-hf (hugging face wrapper version)\n",
    "\n",
    "tokenizer = AutoTokenizer.from_pretrained(model)\n",
    "\n",
    "pipeline = transformers.pipeline(\n",
    "\n",
    "    \"text-generation\",\n",
    "    model=model,\n",
    "    torch_dtype=torch.float32,\n",
    "    device_map={\"\" : 0} # if you have GPU\n",
    ")\n",
    "\n",
    "sequences = pipeline(\n",
    "    'What is the best model for text generation?',\n",
    "    do_sample=True,\n",
    "    top_k=10,\n",
    "    top_p = 0.9,\n",
    "    temperature = 0.2,\n",
    "    num_return_sequences=1,\n",
    "    eos_token_id=tokenizer.eos_token_id,\n",
    "    max_length=200, # can increase the length of sequence\n",
    ")\n",
    "\n",
    "print(\"!!!!!!!!!!!!!!!!!!!!!!!\", sequences)\n",
    "for seq in sequences:\n",
    "    print(f\"Result: {seq['generated_text']}\")"
   ]
  },
  {
   "cell_type": "code",
   "execution_count": 22,
   "metadata": {},
   "outputs": [],
   "source": [
    "import pandas as pd\n",
    "prompt_txt = [\"What is the best model for text generation?\", \"what is gpt?\"]\n",
    "df = pd.DataFrame()\n",
    "df['prompt'] = prompt_txt\n",
    "df.to_csv(\"/home/dilab/jam/rag2/ClosedAI/experiments/generator/prompt.tsv\",sep='\\t')"
   ]
  },
  {
   "cell_type": "code",
   "execution_count": 18,
   "metadata": {},
   "outputs": [
    {
     "data": {
      "text/plain": [
       "['a']"
      ]
     },
     "execution_count": 18,
     "metadata": {},
     "output_type": "execute_result"
    }
   ],
   "source": [
    "b"
   ]
  },
  {
   "cell_type": "code",
   "execution_count": null,
   "metadata": {},
   "outputs": [],
   "source": []
  }
 ],
 "metadata": {
  "kernelspec": {
   "display_name": "korbias",
   "language": "python",
   "name": "python3"
  },
  "language_info": {
   "codemirror_mode": {
    "name": "ipython",
    "version": 3
   },
   "file_extension": ".py",
   "mimetype": "text/x-python",
   "name": "python",
   "nbconvert_exporter": "python",
   "pygments_lexer": "ipython3",
   "version": "3.8.18"
  }
 },
 "nbformat": 4,
 "nbformat_minor": 2
}
